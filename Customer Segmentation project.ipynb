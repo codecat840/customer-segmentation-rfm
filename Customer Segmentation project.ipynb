{
 "cells": [
  {
   "cell_type": "markdown",
   "id": "2a46f18e-6007-420d-9409-fc28ed81aa84",
   "metadata": {},
   "source": [
    "CUSTOMER SEGMENTATION WITH RFM ANALYSIS"
   ]
  },
  {
   "cell_type": "markdown",
   "id": "08478ea2-b610-4cce-b40e-0576cef1cab0",
   "metadata": {},
   "source": [
    "TASK - 1 \n",
    "JUNE 12, 2025"
   ]
  },
  {
   "cell_type": "markdown",
   "id": "05df5863-5b09-427d-9a48-397318a92f34",
   "metadata": {},
   "source": [
    "RFM(RECENCY, FREQUENCY, MONETARY) Analysis is a marketing technique used for quantifying and evaluating customer behaviour. It segments customers based on their tranaction history - how recently and how often they purchased, and how much they spent.\n",
    "\n",
    "Recency(R): It measures how recently a customer has made a purchase which indicates that the customer is active and more likely to buy again.\n",
    "\n",
    "Frequency(F): This accesses how often a customer makes a purchase. Frequent buyers are more likely to continue purchasing in the future, indicating higher loyalty, satisfaction and engagement. While infrequent purchases suggests a need for re-engagement strategies.\n",
    "\n",
    "Monetary(M): This evaluates how much money a customer has spent over time. This determines the customer's value to the business. High monetary customers contribute more to revenue, while lower spenders may require targeted strategies to increase their purchasing activity.\n"
   ]
  },
  {
   "cell_type": "markdown",
   "id": "6dc7c16e-7d12-42ff-aa28-d78a280dbe70",
   "metadata": {},
   "source": [
    "IMPORTANCE OF RFM IN BUSINESS STRATEGIES\n",
    "By integrating RFM analysis into business strategies, companies can:\n",
    "\n",
    "a. Optimize Marketing Campaigns: RFM analysis can drive more effective marketing campaigns by targeting the right customers with the right message at the right time.\n",
    "b. Improve Customer Service: Understanding different segments helps in tailoring customer service efforts to meet the specific needs and preferences of each group.\n",
    "c. Increase Customer Loyalty: By focusing on customers who are more likely to make frequent and recent purchases, businesses can implement strategies to boost customer loyalty.\n",
    "d. Identify Potential High-Value Customers: It helps in spotting customers with the potential to become high-value patrons based on their buying patterns.\n",
    "e. Personalized Customer Engagement: It gives room for more personalized communications and offers, as customers are segmented based on their purchasing behaviour."
   ]
  },
  {
   "cell_type": "markdown",
   "id": "5c600ea5-26a1-4f0c-bf9e-cdb23d242645",
   "metadata": {},
   "source": [
    "Importing libraries"
   ]
  },
  {
   "cell_type": "code",
   "execution_count": 47,
   "id": "274e2d3b-5409-4b03-9d8c-dfb5a608c9c4",
   "metadata": {},
   "outputs": [],
   "source": [
    "import numpy as np\n",
    "import pandas as pd\n",
    "import matplotlib.pyplot as plt\n",
    "import seaborn as sns\n",
    "import datetime as dt"
   ]
  },
  {
   "cell_type": "markdown",
   "id": "5c2eacff-70e0-4ef5-946b-20f082cad7cd",
   "metadata": {},
   "source": [
    "Load dataset"
   ]
  },
  {
   "cell_type": "code",
   "execution_count": 49,
   "id": "c6232828-ea1a-41f4-8924-feb618f04d4d",
   "metadata": {},
   "outputs": [],
   "source": [
    "df1 = pd.read_excel(\"online_retail_II.xlsx\", sheet_name = 'Year 2009-2010')\n",
    "df2 = pd.read_excel(\"online_retail_II.xlsx\", sheet_name = 'Year 2010-2011')"
   ]
  },
  {
   "cell_type": "code",
   "execution_count": 50,
   "id": "892e99b2-4f5d-465e-82f1-f61fe210dbf6",
   "metadata": {},
   "outputs": [
    {
     "name": "stdout",
     "output_type": "stream",
     "text": [
      "       Invoice StockCode                          Description  Quantity  \\\n",
      "0       489434     85048  15CM CHRISTMAS GLASS BALL 20 LIGHTS        12   \n",
      "1       489434    79323P                   PINK CHERRY LIGHTS        12   \n",
      "2       489434    79323W                  WHITE CHERRY LIGHTS        12   \n",
      "3       489434     22041         RECORD FRAME 7\" SINGLE SIZE         48   \n",
      "4       489434     21232       STRAWBERRY CERAMIC TRINKET BOX        24   \n",
      "...        ...       ...                                  ...       ...   \n",
      "525456  538171     22271                 FELTCRAFT DOLL ROSIE         2   \n",
      "525457  538171     22750         FELTCRAFT PRINCESS LOLA DOLL         1   \n",
      "525458  538171     22751       FELTCRAFT PRINCESS OLIVIA DOLL         1   \n",
      "525459  538171     20970   PINK FLORAL FELTCRAFT SHOULDER BAG         2   \n",
      "525460  538171     21931               JUMBO STORAGE BAG SUKI         2   \n",
      "\n",
      "               InvoiceDate  Price  Customer ID         Country  \n",
      "0      2009-12-01 07:45:00   6.95      13085.0  United Kingdom  \n",
      "1      2009-12-01 07:45:00   6.75      13085.0  United Kingdom  \n",
      "2      2009-12-01 07:45:00   6.75      13085.0  United Kingdom  \n",
      "3      2009-12-01 07:45:00   2.10      13085.0  United Kingdom  \n",
      "4      2009-12-01 07:45:00   1.25      13085.0  United Kingdom  \n",
      "...                    ...    ...          ...             ...  \n",
      "525456 2010-12-09 20:01:00   2.95      17530.0  United Kingdom  \n",
      "525457 2010-12-09 20:01:00   3.75      17530.0  United Kingdom  \n",
      "525458 2010-12-09 20:01:00   3.75      17530.0  United Kingdom  \n",
      "525459 2010-12-09 20:01:00   3.75      17530.0  United Kingdom  \n",
      "525460 2010-12-09 20:01:00   1.95      17530.0  United Kingdom  \n",
      "\n",
      "[525461 rows x 8 columns]\n",
      "<class 'pandas.core.frame.DataFrame'>\n",
      "RangeIndex: 525461 entries, 0 to 525460\n",
      "Data columns (total 8 columns):\n",
      " #   Column       Non-Null Count   Dtype         \n",
      "---  ------       --------------   -----         \n",
      " 0   Invoice      525461 non-null  object        \n",
      " 1   StockCode    525461 non-null  object        \n",
      " 2   Description  522533 non-null  object        \n",
      " 3   Quantity     525461 non-null  int64         \n",
      " 4   InvoiceDate  525461 non-null  datetime64[ns]\n",
      " 5   Price        525461 non-null  float64       \n",
      " 6   Customer ID  417534 non-null  float64       \n",
      " 7   Country      525461 non-null  object        \n",
      "dtypes: datetime64[ns](1), float64(2), int64(1), object(4)\n",
      "memory usage: 32.1+ MB\n",
      "       Invoice StockCode                          Description  Quantity  \\\n",
      "0       536365    85123A   WHITE HANGING HEART T-LIGHT HOLDER         6   \n",
      "1       536365     71053                  WHITE METAL LANTERN         6   \n",
      "2       536365    84406B       CREAM CUPID HEARTS COAT HANGER         8   \n",
      "3       536365    84029G  KNITTED UNION FLAG HOT WATER BOTTLE         6   \n",
      "4       536365    84029E       RED WOOLLY HOTTIE WHITE HEART.         6   \n",
      "...        ...       ...                                  ...       ...   \n",
      "541905  581587     22899         CHILDREN'S APRON DOLLY GIRL          6   \n",
      "541906  581587     23254        CHILDRENS CUTLERY DOLLY GIRL          4   \n",
      "541907  581587     23255      CHILDRENS CUTLERY CIRCUS PARADE         4   \n",
      "541908  581587     22138        BAKING SET 9 PIECE RETROSPOT          3   \n",
      "541909  581587      POST                              POSTAGE         1   \n",
      "\n",
      "               InvoiceDate  Price  Customer ID         Country  \n",
      "0      2010-12-01 08:26:00   2.55      17850.0  United Kingdom  \n",
      "1      2010-12-01 08:26:00   3.39      17850.0  United Kingdom  \n",
      "2      2010-12-01 08:26:00   2.75      17850.0  United Kingdom  \n",
      "3      2010-12-01 08:26:00   3.39      17850.0  United Kingdom  \n",
      "4      2010-12-01 08:26:00   3.39      17850.0  United Kingdom  \n",
      "...                    ...    ...          ...             ...  \n",
      "541905 2011-12-09 12:50:00   2.10      12680.0          France  \n",
      "541906 2011-12-09 12:50:00   4.15      12680.0          France  \n",
      "541907 2011-12-09 12:50:00   4.15      12680.0          France  \n",
      "541908 2011-12-09 12:50:00   4.95      12680.0          France  \n",
      "541909 2011-12-09 12:50:00  18.00      12680.0          France  \n",
      "\n",
      "[541910 rows x 8 columns]\n",
      "<class 'pandas.core.frame.DataFrame'>\n",
      "RangeIndex: 541910 entries, 0 to 541909\n",
      "Data columns (total 8 columns):\n",
      " #   Column       Non-Null Count   Dtype         \n",
      "---  ------       --------------   -----         \n",
      " 0   Invoice      541910 non-null  object        \n",
      " 1   StockCode    541910 non-null  object        \n",
      " 2   Description  540456 non-null  object        \n",
      " 3   Quantity     541910 non-null  int64         \n",
      " 4   InvoiceDate  541910 non-null  datetime64[ns]\n",
      " 5   Price        541910 non-null  float64       \n",
      " 6   Customer ID  406830 non-null  float64       \n",
      " 7   Country      541910 non-null  object        \n",
      "dtypes: datetime64[ns](1), float64(2), int64(1), object(4)\n",
      "memory usage: 33.1+ MB\n"
     ]
    }
   ],
   "source": [
    "print(df1)\n",
    "df1.info()\n",
    "print(df2)\n",
    "df2.info()"
   ]
  },
  {
   "cell_type": "code",
   "execution_count": 51,
   "id": "363a72ed-2f4e-42e4-8599-10782bb81ca9",
   "metadata": {},
   "outputs": [
    {
     "name": "stdout",
     "output_type": "stream",
     "text": [
      "<class 'pandas.core.frame.DataFrame'>\n",
      "RangeIndex: 1067371 entries, 0 to 1067370\n",
      "Data columns (total 8 columns):\n",
      " #   Column       Non-Null Count    Dtype         \n",
      "---  ------       --------------    -----         \n",
      " 0   Invoice      1067371 non-null  object        \n",
      " 1   StockCode    1067371 non-null  object        \n",
      " 2   Description  1062989 non-null  object        \n",
      " 3   Quantity     1067371 non-null  int64         \n",
      " 4   InvoiceDate  1067371 non-null  datetime64[ns]\n",
      " 5   Price        1067371 non-null  float64       \n",
      " 6   Customer ID  824364 non-null   float64       \n",
      " 7   Country      1067371 non-null  object        \n",
      "dtypes: datetime64[ns](1), float64(2), int64(1), object(4)\n",
      "memory usage: 65.1+ MB\n"
     ]
    }
   ],
   "source": [
    "df = pd.concat([df1, df2], ignore_index=True)\n",
    "df.info()"
   ]
  },
  {
   "cell_type": "code",
   "execution_count": 52,
   "id": "2c53038d-5f37-439f-a763-0a7d9dcc13be",
   "metadata": {},
   "outputs": [
    {
     "name": "stdout",
     "output_type": "stream",
     "text": [
      "(1067371, 8)\n"
     ]
    }
   ],
   "source": [
    "print(df.shape)"
   ]
  },
  {
   "cell_type": "markdown",
   "id": "dc89e144-7b8d-4ecf-b7f8-ee97bc146823",
   "metadata": {},
   "source": [
    "Drop duplicates"
   ]
  },
  {
   "cell_type": "code",
   "execution_count": 54,
   "id": "d84db697-c894-4f6f-ac25-8923ae9e82fb",
   "metadata": {},
   "outputs": [
    {
     "name": "stdout",
     "output_type": "stream",
     "text": [
      "(1033036, 8)\n"
     ]
    }
   ],
   "source": [
    "df = df.drop_duplicates()\n",
    "print(df.shape)"
   ]
  },
  {
   "cell_type": "markdown",
   "id": "f5a09a0e-ba23-40d9-9865-5faa8e3abfc7",
   "metadata": {},
   "source": [
    "Checking null values or NaN"
   ]
  },
  {
   "cell_type": "code",
   "execution_count": 56,
   "id": "c79bf4e7-8759-4098-81ac-99926e46fc25",
   "metadata": {},
   "outputs": [
    {
     "data": {
      "text/plain": [
       "Invoice             0\n",
       "StockCode           0\n",
       "Description      4275\n",
       "Quantity            0\n",
       "InvoiceDate         0\n",
       "Price               0\n",
       "Customer ID    235151\n",
       "Country             0\n",
       "dtype: int64"
      ]
     },
     "execution_count": 56,
     "metadata": {},
     "output_type": "execute_result"
    }
   ],
   "source": [
    "df.isna().sum()"
   ]
  },
  {
   "cell_type": "code",
   "execution_count": 64,
   "id": "455909f0-231c-4a0f-b334-6e59b96273f2",
   "metadata": {},
   "outputs": [
    {
     "name": "stdout",
     "output_type": "stream",
     "text": [
      "        Invoice StockCode                     Description  Quantity  \\\n",
      "263      489464     21733                    85123a mixed       -96   \n",
      "283      489463     71477                           short      -240   \n",
      "284      489467    85123A                     21733 mixed      -192   \n",
      "470      489521     21646                             NaN       -50   \n",
      "577      489525    85226C       BLUE PULL BACK RACING CAR         1   \n",
      "...         ...       ...                             ...       ...   \n",
      "1066997  581498    85099B         JUMBO BAG RED RETROSPOT         5   \n",
      "1066998  581498    85099C  JUMBO  BAG BAROQUE BLACK WHITE         4   \n",
      "1066999  581498     85150   LADIES & GENTLEMEN METAL SIGN         1   \n",
      "1067000  581498     85174               S/4 CACTI CANDLES         1   \n",
      "1067001  581498       DOT                  DOTCOM POSTAGE         1   \n",
      "\n",
      "                InvoiceDate    Price  Customer ID         Country  \n",
      "263     2009-12-01 10:52:00     0.00          NaN  United Kingdom  \n",
      "283     2009-12-01 10:52:00     0.00          NaN  United Kingdom  \n",
      "284     2009-12-01 10:53:00     0.00          NaN  United Kingdom  \n",
      "470     2009-12-01 11:44:00     0.00          NaN  United Kingdom  \n",
      "577     2009-12-01 11:49:00     0.55          NaN  United Kingdom  \n",
      "...                     ...      ...          ...             ...  \n",
      "1066997 2011-12-09 10:26:00     4.13          NaN  United Kingdom  \n",
      "1066998 2011-12-09 10:26:00     4.13          NaN  United Kingdom  \n",
      "1066999 2011-12-09 10:26:00     4.96          NaN  United Kingdom  \n",
      "1067000 2011-12-09 10:26:00    10.79          NaN  United Kingdom  \n",
      "1067001 2011-12-09 10:26:00  1714.17          NaN  United Kingdom  \n",
      "\n",
      "[235151 rows x 8 columns]\n"
     ]
    }
   ],
   "source": [
    "print(df[df['Customer ID'].isnull()])"
   ]
  },
  {
   "cell_type": "markdown",
   "id": "05dd7f0f-ffcc-4255-b661-0db42bcf2de9",
   "metadata": {},
   "source": [
    "Calculating Total Sales"
   ]
  },
  {
   "cell_type": "code",
   "execution_count": 67,
   "id": "eeb1ed49-5105-4e3f-9707-67522cb379a9",
   "metadata": {},
   "outputs": [],
   "source": [
    "df = df[df['Quantity']>0]\n",
    "df = df[df['Price']>0]"
   ]
  },
  {
   "cell_type": "code",
   "execution_count": 69,
   "id": "6a4b97c2-b060-46f9-8591-78a33504d143",
   "metadata": {},
   "outputs": [
    {
     "name": "stdout",
     "output_type": "stream",
     "text": [
      "0           83.40\n",
      "1           81.00\n",
      "2           81.00\n",
      "3          100.80\n",
      "4           30.00\n",
      "            ...  \n",
      "1067366     12.60\n",
      "1067367     16.60\n",
      "1067368     16.60\n",
      "1067369     14.85\n",
      "1067370     18.00\n",
      "Name: TotalSales, Length: 1007914, dtype: float64\n"
     ]
    }
   ],
   "source": [
    "df['TotalSales'] = df['Quantity']*df['Price']\n",
    "print(df['TotalSales'])"
   ]
  },
  {
   "cell_type": "markdown",
   "id": "ba95ccbe-2302-4e52-8c86-4507c1f46c9b",
   "metadata": {},
   "source": [
    "Calculating RFM Metrics"
   ]
  },
  {
   "cell_type": "markdown",
   "id": "95b06ffb-0eb1-400e-ab6f-1eea1564d43a",
   "metadata": {},
   "source": [
    "Recency\n",
    "\n",
    "In order to find the recency value of each customer, we need to determine the last invoice date as the current date and subtract the last purchasing date of each customer from this date."
   ]
  },
  {
   "cell_type": "code",
   "execution_count": 73,
   "id": "743d071d-6819-4f17-8228-cc993a76d855",
   "metadata": {},
   "outputs": [
    {
     "name": "stdout",
     "output_type": "stream",
     "text": [
      "2011-12-09 12:50:00\n"
     ]
    }
   ],
   "source": [
    "current_date = df['InvoiceDate'].max()\n",
    "print(current_date)"
   ]
  },
  {
   "cell_type": "code",
   "execution_count": 75,
   "id": "3210ae98-9725-4481-9d0d-c8218b06a1e3",
   "metadata": {},
   "outputs": [],
   "source": [
    "#df[\"Customer ID\"] = df[\"Customer ID\"].astype(int) "
   ]
  },
  {
   "cell_type": "code",
   "execution_count": 77,
   "id": "f3b3adb4-3277-41a5-8473-abb210c42327",
   "metadata": {},
   "outputs": [],
   "source": [
    "df[\"InvoiceDate\"] = pd.to_datetime(df[\"InvoiceDate\"])"
   ]
  },
  {
   "cell_type": "code",
   "execution_count": 79,
   "id": "850373c0-2dfd-4c64-884a-b56e3d65917a",
   "metadata": {},
   "outputs": [],
   "source": [
    "import datetime as dt\n",
    "\n",
    "#Recency\n",
    "latest_date = df['InvoiceDate'].max() + dt.timedelta(days = 1)"
   ]
  },
  {
   "cell_type": "code",
   "execution_count": 90,
   "id": "c8a0459e-8b33-4f70-a104-4e3df0965937",
   "metadata": {},
   "outputs": [
    {
     "name": "stdout",
     "output_type": "stream",
     "text": [
      "      Customer ID  Recency  Frequency  Monetary\n",
      "0         12346.0      326         12  77556.46\n",
      "1         12347.0        2          8   4921.53\n",
      "2         12348.0       75          5   2019.40\n",
      "3         12349.0       19          4   4428.69\n",
      "4         12350.0      310          1    334.40\n",
      "...           ...      ...        ...       ...\n",
      "5873      18283.0        4         22   2664.90\n",
      "5874      18284.0      432          1    461.68\n",
      "5875      18285.0      661          1    427.00\n",
      "5876      18286.0      477          2   1296.43\n",
      "5877      18287.0       43          7   4182.99\n",
      "\n",
      "[5878 rows x 4 columns]\n"
     ]
    }
   ],
   "source": [
    "rfm = df.groupby('Customer ID').agg({\n",
    "    'InvoiceDate': lambda x: (latest_date - x.max()).days,\n",
    "    'Invoice': 'nunique',\n",
    "    'TotalSales': 'sum'\n",
    "}).reset_index()\n",
    "rfm.rename(columns = {\n",
    "    'InvoiceDate': 'Recency',\n",
    "    'Invoice': 'Frequency',\n",
    "    'TotalSales': 'Monetary'\n",
    "}, inplace = True)\n",
    "print(rfm)"
   ]
  },
  {
   "cell_type": "markdown",
   "id": "8f2fa9b3-be49-42a8-a3b6-73effb629368",
   "metadata": {},
   "source": [
    "Data visualisation"
   ]
  },
  {
   "cell_type": "code",
   "execution_count": 115,
   "id": "03666c5c-ed3e-4b6e-bedb-258f7fde7f26",
   "metadata": {},
   "outputs": [
    {
     "data": {
      "text/plain": [
       "Customer ID\n",
       "12346.0    325\n",
       "12347.0      1\n",
       "12348.0     74\n",
       "12349.0     18\n",
       "12350.0    309\n",
       "Name: Recency, dtype: int64"
      ]
     },
     "execution_count": 115,
     "metadata": {},
     "output_type": "execute_result"
    }
   ],
   "source": [
    "recency = (current_date - df.groupby(\"Customer ID\").agg({\"InvoiceDate\":\"max\"}))\n",
    "# Rename column name as Recency\n",
    "recency.rename(columns = {\"InvoiceDate\":\"Recency\"}, inplace = True)\n",
    "# Change the values to day format\n",
    "recency_df = recency[\"Recency\"].apply(lambda x: x.days)\n",
    "recency_df.head()"
   ]
  },
  {
   "cell_type": "code",
   "execution_count": 117,
   "id": "9f2c3b55-1392-4bf3-b8f4-e4de00a586f6",
   "metadata": {},
   "outputs": [
    {
     "data": {
      "image/png": "[encoded data removed]",
      "text/plain": [
       "<Figure size 640x480 with 1 Axes>"
      ]
     },
     "metadata": {},
     "output_type": "display_data"
    }
   ],
   "source": [
    "sns.histplot(rfm['Recency'], bins = 20, binwidth=9, kde=True, color='blue')\n",
    "plt.title('Recency Distribution')\n",
    "plt.grid(linestyle='-', alpha=0.2, color='black')\n",
    "plt.tight_layout()\n",
    "plt.show()"
   ]
  },
  {
   "cell_type": "markdown",
   "id": "a3942942-0e06-4062-9db3-23c297988971",
   "metadata": {},
   "source": [
    "Frequency\n",
    "\n",
    "In order to find the frequency value of each customer, we need to determine how many times the customers make purchases."
   ]
  },
  {
   "cell_type": "code",
   "execution_count": 120,
   "id": "20f72c73-1657-41d6-8017-5989500864f8",
   "metadata": {},
   "outputs": [
    {
     "data": {
      "text/html": [
       "<div>\n",
       "<style scoped>\n",
       "    .dataframe tbody tr th:only-of-type {\n",
       "        vertical-align: middle;\n",
       "    }\n",
       "\n",
       "    .dataframe tbody tr th {\n",
       "        vertical-align: top;\n",
       "    }\n",
       "\n",
       "    .dataframe thead th {\n",
       "        text-align: right;\n",
       "    }\n",
       "</style>\n",
       "<table border=\"1\" class=\"dataframe\">\n",
       "  <thead>\n",
       "    <tr style=\"text-align: right;\">\n",
       "      <th></th>\n",
       "      <th>Frequency</th>\n",
       "    </tr>\n",
       "    <tr>\n",
       "      <th>Customer ID</th>\n",
       "      <th></th>\n",
       "    </tr>\n",
       "  </thead>\n",
       "  <tbody>\n",
       "    <tr>\n",
       "      <th>12346.0</th>\n",
       "      <td>12</td>\n",
       "    </tr>\n",
       "    <tr>\n",
       "      <th>12347.0</th>\n",
       "      <td>8</td>\n",
       "    </tr>\n",
       "    <tr>\n",
       "      <th>12348.0</th>\n",
       "      <td>5</td>\n",
       "    </tr>\n",
       "    <tr>\n",
       "      <th>12349.0</th>\n",
       "      <td>4</td>\n",
       "    </tr>\n",
       "    <tr>\n",
       "      <th>12350.0</th>\n",
       "      <td>1</td>\n",
       "    </tr>\n",
       "  </tbody>\n",
       "</table>\n",
       "</div>"
      ],
      "text/plain": [
       "             Frequency\n",
       "Customer ID           \n",
       "12346.0             12\n",
       "12347.0              8\n",
       "12348.0              5\n",
       "12349.0              4\n",
       "12350.0              1"
      ]
     },
     "execution_count": 120,
     "metadata": {},
     "output_type": "execute_result"
    }
   ],
   "source": [
    "freq_df = df.groupby(\"Customer ID\").agg({\"InvoiceDate\":\"nunique\"}) \n",
    "# Rename column name as Frequency\n",
    "freq_df.rename(columns={\"InvoiceDate\": \"Frequency\"}, inplace=True)\n",
    "freq_df.head()"
   ]
  },
  {
   "cell_type": "code",
   "execution_count": 122,
   "id": "8a8d8edf-92dc-41e5-9e10-f02e696e8272",
   "metadata": {},
   "outputs": [
    {
     "data": {
      "image/png": "[encoded data removed]",
      "text/plain": [
       "<Figure size 640x480 with 1 Axes>"
      ]
     },
     "metadata": {},
     "output_type": "display_data"
    }
   ],
   "source": [
    "sns.histplot(rfm['Frequency'], bins = 20, binwidth=9, kde=True, color='blue')\n",
    "plt.title('Frequency Distribution')\n",
    "plt.grid(linestyle='-', alpha=0.2, color='black')\n",
    "plt.tight_layout()\n",
    "plt.show()"
   ]
  },
  {
   "cell_type": "markdown",
   "id": "7c45e8bf-267e-4a22-b63e-6bfbb48f4dd7",
   "metadata": {},
   "source": [
    "Monetary\n",
    "\n",
    "In order to find the monetary value of each customer, we need to determine how much do the customers spend on purchases"
   ]
  },
  {
   "cell_type": "code",
   "execution_count": 127,
   "id": "326a4dc2-6218-43bc-ab8c-41c0596667ae",
   "metadata": {},
   "outputs": [
    {
     "data": {
      "text/html": [
       "<div>\n",
       "<style scoped>\n",
       "    .dataframe tbody tr th:only-of-type {\n",
       "        vertical-align: middle;\n",
       "    }\n",
       "\n",
       "    .dataframe tbody tr th {\n",
       "        vertical-align: top;\n",
       "    }\n",
       "\n",
       "    .dataframe thead th {\n",
       "        text-align: right;\n",
       "    }\n",
       "</style>\n",
       "<table border=\"1\" class=\"dataframe\">\n",
       "  <thead>\n",
       "    <tr style=\"text-align: right;\">\n",
       "      <th></th>\n",
       "      <th>Monetary</th>\n",
       "    </tr>\n",
       "    <tr>\n",
       "      <th>Customer ID</th>\n",
       "      <th></th>\n",
       "    </tr>\n",
       "  </thead>\n",
       "  <tbody>\n",
       "    <tr>\n",
       "      <th>12346.0</th>\n",
       "      <td>77556.46</td>\n",
       "    </tr>\n",
       "    <tr>\n",
       "      <th>12347.0</th>\n",
       "      <td>4921.53</td>\n",
       "    </tr>\n",
       "    <tr>\n",
       "      <th>12348.0</th>\n",
       "      <td>2019.40</td>\n",
       "    </tr>\n",
       "    <tr>\n",
       "      <th>12349.0</th>\n",
       "      <td>4428.69</td>\n",
       "    </tr>\n",
       "    <tr>\n",
       "      <th>12350.0</th>\n",
       "      <td>334.40</td>\n",
       "    </tr>\n",
       "  </tbody>\n",
       "</table>\n",
       "</div>"
      ],
      "text/plain": [
       "             Monetary\n",
       "Customer ID          \n",
       "12346.0      77556.46\n",
       "12347.0       4921.53\n",
       "12348.0       2019.40\n",
       "12349.0       4428.69\n",
       "12350.0        334.40"
      ]
     },
     "execution_count": 127,
     "metadata": {},
     "output_type": "execute_result"
    }
   ],
   "source": [
    "monetary_df = df.groupby(\"Customer ID\").agg({\"TotalSales\":\"sum\"})\n",
    "# Rename Total Price column as Monetary\n",
    "monetary_df.rename(columns={\"TotalSales\":\"Monetary\"}, inplace=True)\n",
    "monetary_df.head()"
   ]
  },
  {
   "cell_type": "code",
   "execution_count": 129,
   "id": "b035e5e8-3ea5-4e7c-a351-7fcb9732db2e",
   "metadata": {},
   "outputs": [
    {
     "data": {
      "image/png": "[encoded data removed]",
      "text/plain": [
       "<Figure size 640x480 with 1 Axes>"
      ]
     },
     "metadata": {},
     "output_type": "display_data"
    }
   ],
   "source": [
    "sns.histplot(rfm['Monetary'], bins = 20, kde=True, color='blue')\n",
    "plt.title('Monetary Distribution')\n",
    "plt.grid(linestyle='-', alpha=0.2, color='black')\n",
    "plt.tight_layout()\n",
    "plt.show()"
   ]
  },
  {
   "cell_type": "code",
   "execution_count": null,
   "id": "24697f53-cf77-4f89-873b-d18dc471fd71",
   "metadata": {},
   "outputs": [],
   "source": [
    "rfm = pd.concat([recency_df, freq_df, monetary_df],  axis=1)\n",
    "rfm.head()"
   ]
  },
  {
   "cell_type": "code",
   "execution_count": null,
   "id": "9d83a8df-e5d8-4730-8ca3-9d1140c6cc90",
   "metadata": {},
   "outputs": [],
   "source": [
    "# Dividing the recency values into recency scores such that the lowest recency value as 5 and the highest as 1\n",
    "rfm[\"RecencyScore\"] = pd.qcut(rfm[\"Recency\"], 5, labels = [5, 4 , 3, 2, 1]) \n",
    "# Dividing the frequency values into frequency scores such that the lowest frequency value as 1 and the highest as 5\n",
    "rfm[\"FrequencyScore\"]= pd.qcut(rfm[\"Frequency\"].rank(method=\"first\"), 5, labels=[1, 2, 3, 4, 5])\n",
    "# Dividing the monetary values into monetary scores such that the lowest monetary value as 1 and the highest as 5\n",
    "rfm[\"MonetaryScore\"] = pd.qcut(rfm['Monetary'], 5, labels = [1, 2, 3, 4, 5])"
   ]
  },
  {
   "cell_type": "code",
   "execution_count": null,
   "id": "74e8f28b-f2d3-4b95-96f1-8de257db8494",
   "metadata": {},
   "outputs": [],
   "source": [
    "rfm[\"RFM_SCORE\"] = (rfm['RecencyScore'].astype(str) + \n",
    "                    rfm['FrequencyScore'].astype(str) + \n",
    "                    rfm['MonetaryScore'].astype(str))"
   ]
  },
  {
   "cell_type": "code",
   "execution_count": null,
   "id": "01b04ceb-985c-4826-95a5-64eb8a2c8e1d",
   "metadata": {},
   "outputs": [],
   "source": [
    "rfm[rfm[\"RFM_SCORE\"]==\"555\"].head()"
   ]
  },
  {
   "cell_type": "code",
   "execution_count": null,
   "id": "ef89fb0e-0f6c-4779-9cc6-be0e36e8b632",
   "metadata": {},
   "outputs": [],
   "source": [
    "rfm[rfm[\"RFM_SCORE\"]==\"111\"].head()"
   ]
  },
  {
   "cell_type": "markdown",
   "id": "b25d97f3-f469-4a79-96a8-33ac5aea74aa",
   "metadata": {},
   "source": [
    "Customer segmentation"
   ]
  },
  {
   "cell_type": "code",
   "execution_count": null,
   "id": "b6391b4f-8095-4720-9b00-893e71667e23",
   "metadata": {},
   "outputs": [],
   "source": [
    "We will categorize the customers based on their RFM values into groups such as \"Loyal Customers\", \"New Customers\", \"At-Risk Customers\" and \"Lost Customers\".\n",
    "\n",
    "1. Champions: Bought recently, buy often and spend the most.\n",
    "2. Loyal Customers : These customers buy often and spend a lot. They are recent buyers, indicating ongoing engagement.\n",
    "3. Potential Loyalists: Recent customers but spent a good amount and bought more than once.\n",
    "4. Hibernating: Last purchases was long back, with low spenders and low number of orders.\n",
    "5. Promising: Recent buyers but haven't spent much.\n",
    "6. Need Attention: Above average recency, frequency and monetary values. May not have bought very recently though.\n",
    "7. About to Sleep: Below average recency, frequency and monetary values. Will lose them if not reactivated.\n",
    "8. New Customers: These are customers who have started buying recently but have not yet bought frequently or spent a lot.\n",
    "9. At-Risk: These are customers who used to buy frequently and spend a significant amount, but it's been long time they purchased.\n",
    "10. Can't Loose: Made biggest purchases and often. But haven't returned for a long time. "
   ]
  },
  {
   "cell_type": "code",
   "execution_count": null,
   "id": "c1e570d0-eb39-4755-b608-8d147c277adf",
   "metadata": {},
   "outputs": [],
   "source": [
    "segment_map = {\n",
    "    r'[1-2][1-2]': 'Hibernating',\n",
    "    r'[1-2][3-4]': 'At Risk',\n",
    "    r'[1-2]5': 'Can\\'t Loose',\n",
    "    r'3[1-2]': 'About to Sleep',\n",
    "    r'33': 'Need Attention',\n",
    "    r'[3-4][4-5]': 'Loyal Customers',\n",
    "    r'41': 'Promising',\n",
    "    r'51': 'New Customers',\n",
    "    r'[4-5][2-3]': 'Potential Loyalists',\n",
    "    r'5[4-5]': 'Champions'\n",
    "}"
   ]
  },
  {
   "cell_type": "code",
   "execution_count": null,
   "id": "bea4d60b-e682-4afb-a0d0-b38d27abdf44",
   "metadata": {},
   "outputs": [],
   "source": [
    "rfm['Segment'] = rfm['RecencyScore'].astype(str) + rfm['FrequencyScore'].astype(str)\n",
    "# Segments are changed with the definitons of seg_map\n",
    "rfm['Segment'] = rfm['Segment'].replace(seg_map, regex=True)"
   ]
  },
  {
   "cell_type": "code",
   "execution_count": null,
   "id": "2ef3c200-f92a-4609-97b9-90bd0f9f6ca8",
   "metadata": {},
   "outputs": [],
   "source": [
    "rfm.head()"
   ]
  },
  {
   "cell_type": "code",
   "execution_count": null,
   "id": "98309557-2cca-4010-8ed1-a6b8091bb2e5",
   "metadata": {},
   "outputs": [],
   "source": [
    "# Mean, median, count statistics of different segments\n",
    "rfm[[\"Segment\",\"Recency\",\"Frequency\", \"Monetary\"]].groupby(\"Segment\").agg([\"mean\",\"median\",\"count\"])"
   ]
  },
  {
   "cell_type": "code",
   "execution_count": null,
   "id": "eb58d951-2449-4e92-85a0-48f4c3ad7839",
   "metadata": {},
   "outputs": [],
   "source": []
  },
  {
   "cell_type": "markdown",
   "id": "1463233f-3fa8-4910-8120-68adbc2e3404",
   "metadata": {},
   "source": [
    "Data standardization"
   ]
  },
  {
   "cell_type": "code",
   "execution_count": null,
   "id": "15395928-d4ad-41b6-919c-ba86def7c16c",
   "metadata": {},
   "outputs": [],
   "source": [
    "from sklearn.preprocessing import StandardScaler\n",
    "from sklearn.cluster import KMeans\n",
    "scaler = StandardScaler()\n",
    "rfm_scaled = scaler.fit_transform(rfm[['Recency', 'Frequency', 'Monetary']])\n",
    "print(rfm_scaled)"
   ]
  },
  {
   "cell_type": "code",
   "execution_count": null,
   "id": "d79c499b-892e-4419-b06f-64a0531e39cb",
   "metadata": {},
   "outputs": [],
   "source": [
    "kmeans = KMeans(n_clusters = 3, random_state = 1)\n",
    "rfm['Cluster'] = kmeans.fit_predict(rfm_scaled)\n",
    "print(type(rfm_scaled))\n",
    "print(rfm_scaled[:5])"
   ]
  },
  {
   "cell_type": "code",
   "execution_count": null,
   "id": "663a3c1a-ec27-4c25-a585-2fbc636af103",
   "metadata": {},
   "outputs": [],
   "source": [
    "print(rfm.head())"
   ]
  },
  {
   "cell_type": "code",
   "execution_count": null,
   "id": "05b28685-6585-40dd-ba4c-8611c22a2832",
   "metadata": {},
   "outputs": [],
   "source": [
    "print(rfm['Cluster'].value_counts().sort_index())"
   ]
  },
  {
   "cell_type": "code",
   "execution_count": null,
   "id": "74819e65-3ee8-4f1e-a7a1-bb91e162cf9c",
   "metadata": {},
   "outputs": [],
   "source": [
    "new_rfm = rfm[[\"Recency\", \"Frequency\", \"Monetary\", \"Segment\"]]"
   ]
  },
  {
   "cell_type": "code",
   "execution_count": null,
   "id": "1cde07ea-4e37-4eea-9cac-f4bdfccc8f4e",
   "metadata": {},
   "outputs": [],
   "source": [
    "plt.figure(figsize = (10, 6))\n",
    "sns.scatterplot(x = 'Recency', y = 'Frequency', hue = 'Segment', data = new_rfm, palette = 'viridis')\n",
    "plt.title('Customer Cluster based on Recency and Frequency')\n",
    "plt.show()"
   ]
  },
  {
   "cell_type": "code",
   "execution_count": null,
   "id": "13e3c3f8-2ac3-4711-8a76-782aa2136e2d",
   "metadata": {},
   "outputs": [],
   "source": [
    "import plotly.express as px\n",
    "#Top 10 most preferred products\n",
    "segments = new_rfm['Segment'].value_counts()\n",
    "\n",
    "fig = px.bar(\n",
    "     x = segments.index,\n",
    "     y = segments.values,\n",
    "     color = segments.index,\n",
    "     text = segments.values,\n",
    "     title = \"RFM Segments\"\n",
    ")\n",
    "fig.update_layout(\n",
    "    xaxis_title=\"Segment\",\n",
    "    yaxis_title=\"Count\",\n",
    "    font=dict(size=15, family=\"Arial\"),\n",
    "    title_font=dict(size=20, family=\"Arial\")\n",
    ")\n",
    "fig.show()"
   ]
  },
  {
   "cell_type": "code",
   "execution_count": null,
   "id": "ee67636c-36ad-4411-81a9-3bf8e4d13cad",
   "metadata": {},
   "outputs": [],
   "source": [
    "sns.set_style(\"darkgrid\")\n",
    "colors = sns.color_palette(\"dark\")\n",
    "\n",
    "# Create the plot\n",
    "plt.figure(figsize=(15, 7))\n",
    "sns.barplot(x = \"Segment\", y = \"Frequency\", data = new_rfm, palette=colors)\n",
    "plt.title(\"Customer Segments by Frequency\", color='black', fontsize=16, fontweight='bold')\n",
    "plt.xlabel(\"Segment\", color='black', fontsize=14)\n",
    "plt.ylabel(\"Frequency\", color='black', fontsize=14)\n",
    "plt.xticks(rotation=45, color='black', fontsize=12)\n",
    "plt.yticks(color='black', fontsize=12)\n",
    "plt.show()"
   ]
  },
  {
   "cell_type": "code",
   "execution_count": null,
   "id": "b427d17a-b61d-46da-be12-f7209e5cdfbc",
   "metadata": {},
   "outputs": [],
   "source": [
    "new_rfm[[\"Segment\",\"Recency\", \"Frequency\", \"Monetary\"]].groupby(\"Segment\").agg([\"mean\", \"count\",\"sum\"])"
   ]
  },
  {
   "cell_type": "code",
   "execution_count": null,
   "id": "d56577cd-d8a4-41c4-93a4-83c83bbf8b94",
   "metadata": {},
   "outputs": [],
   "source": [
    "Insights And Recommendations"
   ]
  },
  {
   "cell_type": "markdown",
   "id": "0a5d2cfa-a7e8-4a82-9ff0-32ea9708a153",
   "metadata": {},
   "source": [
    "Several marketing strategies can be determined for different customer segments. In this analysis, I have determined 3 strategies for different customer segments. These can be diversified and customers can be monitored more closely.\n",
    "\n",
    "At Risk\n",
    "1. Those in this group last shopping an average of 385 days ago. The group median was 369.340, so there was not much deviation from the mean. Therefore, it can be said that this number is consistent throughout the group.\n",
    "2. On the other hand, on an average, 3.89 units of shopping were made and 1344.36 units of payments were made. The time interval that has passed since the last purchase of this group is very high, so customers may be lost. The reasons that may cause these people not to shop for so long should be focused on. That may caused by customer's dissatisfaction. The shopping experience of the customer can be examined by sending a survey via mail. If there is no such dissatisfaction, then the person is reminded. Options such as discount codes may be offered to encourage re-shopping.\n",
    "\n",
    "Need Attention\n",
    "1. People in this group last shopping, on average, 112 days ago. The group median is 266, so there is a huge deviation from the mean. This maybe a reason behind customer's preferences has not been met with the retailing services.\n",
    "2. On average, 3.15 units of shopping were made and 1271.15 units of payment were made. Although there is a huge deviation, this group is less risky than the At-Risk group. By doing improvement over special offers, promotion and customer service, attention can be given to the customer's preferences so that they may come frequently.\n",
    "\n",
    "About to sleep\n",
    "1. Those in this group last shopping an average of 106 days ago. The group median was 385, that is a huge gap from the mean. Therefore, it can be said that this number is not consistent throughout the group.\n",
    "2. On the other hand, on an average, 1.36 units of shopping were made and 552 units of payments were made. The time interval that has passed since the last purchase of this group is very high, so the connection between retailer and customers may be lost. Therefore, improvements regarding marketing strategies, actively promotional campaigns must be taken to resolve the communication gap.\n",
    "\n",
    "Potential Loyalists\n",
    "\n",
    "1. Those in this group last shopping an average of 24 days ago. The group median is 715, so there is a significant increasing relationship with the mean. Hence, this number is consistent across the group.\n",
    "2. On average, 2.59 units were purchased and 1145.56 units were paid. People in this group can be included in the Loyal Customer group if supported. Therefore, they can be monitored closely and customer satisfaction can be increased with one-to-one phone calls. Apart from this, options such as champions, loyal customers can be offered to increase the average paid wages."
   ]
  }
 ],
 "metadata": {
  "kernelspec": {
   "display_name": "Python 3 (ipykernel)",
   "language": "python",
   "name": "python3"
  },
  "language_info": {
   "codemirror_mode": {
    "name": "ipython",
    "version": 3
   },
   "file_extension": ".py",
   "mimetype": "text/x-python",
   "name": "python",
   "nbconvert_exporter": "python",
   "pygments_lexer": "ipython3",
   "version": "3.11.5"
  }
 },
 "nbformat": 4,
 "nbformat_minor": 5
}
